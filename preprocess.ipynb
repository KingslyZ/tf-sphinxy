{
 "cells": [
  {
   "cell_type": "code",
   "execution_count": 1,
   "metadata": {},
   "outputs": [],
   "source": [
    "import csv\n",
    "import random\n",
    "\n",
    "import numpy as np\n"
   ]
  },
  {
   "cell_type": "code",
   "execution_count": 2,
   "metadata": {},
   "outputs": [],
   "source": [
    "weights = {\n",
    "    'blouse': np.array([1, 1, 1, 1, 1, 1, 1, 0, 0, 1, 1, 1, 1, 1, 1, 0, 0, 0, 0, 0, 0, 0,\n",
    "        0, 0]),\n",
    "    'dress': np.array([1, 1, 1, 1, 1, 1, 1, 1, 1, 1, 1, 1, 1, 0, 0, 0, 0, 1, 1, 0, 0, 0,\n",
    "        0, 0]),\n",
    "    'outwear': np.array([1, 1, 0, 1, 1, 1, 1, 1, 1, 1, 1, 1, 1, 1, 1, 0, 0, 0, 0, 0, 0, 0,\n",
    "        0, 0]),\n",
    "    'skirt': np.array([0, 0, 0, 0, 0, 0, 0, 0, 0, 0, 0, 0, 0, 0, 0, 1, 1, 1, 1, 0, 0, 0,\n",
    "        0, 0]),\n",
    "    'trousers': np.array([0, 0, 0, 0, 0, 0, 0, 0, 0, 0, 0, 0, 0, 0, 0, 1, 1, 0, 0, 1, 1, 1,\n",
    "        1, 1])\n",
    "}"
   ]
  },
  {
   "cell_type": "code",
   "execution_count": 3,
   "metadata": {},
   "outputs": [],
   "source": [
    "def generate_train_set(source, target, shuffle=False):\n",
    "    with open(source, newline='') as infile:\n",
    "        spamreader = csv.reader(infile)\n",
    "        with open(target, 'w', newline='') as outfile:\n",
    "            spamwriter = csv.writer(outfile, delimiter=' ')\n",
    "            \n",
    "            # keep track of some variables\n",
    "            head = True\n",
    "            catagories = {'blouse':[], 'dress':[], 'outwear':[], 'skirt':[], 'trousers':[]}\n",
    "            image_count = {'blouse':[0, 0], 'dress':[0, 0], 'outwear':[0, 0], 'skirt':[0, 0], 'trousers':[0, 0]}\n",
    "            \n",
    "            # process every row\n",
    "            for row in spamreader:\n",
    "                # skip the header row\n",
    "                if head:\n",
    "                    head = False\n",
    "                    continue\n",
    "                    \n",
    "                bad_data = False\n",
    "\n",
    "                # parse data\n",
    "                this_row = [row[0].split('/')[-1] + 'A', row[1], -1, -1, -1, -1]\n",
    "                for i in range(2, 26):\n",
    "                    x, y, v = row[i].split('_')\n",
    "                    \n",
    "                    # pickout data with invalid points\n",
    "                    if v == '1' and weights[row[1]][i-2] == 0:\n",
    "                        bad_data = True\n",
    "                        break\n",
    "#                     elif v == '-1' and weights[row[1]][i-2] == 1:\n",
    "#                         bad_data = True\n",
    "#                         break\n",
    "                        \n",
    "                    if v == '1':\n",
    "                        this_row += [x, y, 1]\n",
    "                    else:\n",
    "                        this_row += [x, y, 0]\n",
    "\n",
    "                # pickout data without valid normalization points\n",
    "                if row[1] in ['blouse', 'outwear', 'dress']:\n",
    "                    if row[7].split('_')[2] == \"-1\" or row[8].split('_')[2] == \"-1\":\n",
    "                        bad_data = True\n",
    "                else:\n",
    "                    if row[17].split('_')[2] == \"-1\" or row[18].split('_')[2] == \"-1\":\n",
    "                        bad_data = True\n",
    "                        \n",
    "                if bad_data:\n",
    "                    image_count[row[1]][1] += 1    \n",
    "                else:\n",
    "                    catagories[row[1]].append(this_row)\n",
    "                  \n",
    "            # calculate total count\n",
    "            for i in catagories:\n",
    "                image_count[i][0] = len(catagories[i])\n",
    "\n",
    "            # write 90% of every catagory as train set\n",
    "            for i in catagories:\n",
    "                # shuffle entries as needed\n",
    "                if (shuffle):\n",
    "                    random.shuffle(catagories[i])\n",
    "                train_size = int(len(catagories[i]) * 0.1)\n",
    "                for row in catagories[i][:train_size]:\n",
    "                    spamwriter.writerow(row)\n",
    "\n",
    "            # write 10% of every catagory as valid set\n",
    "            for i in catagories:\n",
    "                train_size = int(len(catagories[i]) * 0.1)\n",
    "                for row in catagories[i][train_size:]:\n",
    "                    spamwriter.writerow(row)\n",
    "                    \n",
    "            return image_count"
   ]
  },
  {
   "cell_type": "code",
   "execution_count": 4,
   "metadata": {},
   "outputs": [
    {
     "name": "stdout",
     "output_type": "stream",
     "text": [
      "{'dress': [4888, 24], 'blouse': [7124, 34], 'skirt': [7602, 16], 'trousers': [6316, 31], 'outwear': [5565, 31]}\n"
     ]
    }
   ],
   "source": [
    "image_count = generate_train_set(\"data/train/Annotations/train.csv\", \n",
    "                                 'data/dataset_valid.txt', shuffle = True)\n",
    "print(image_count)"
   ]
  },
  {
   "cell_type": "code",
   "execution_count": 24,
   "metadata": {},
   "outputs": [
    {
     "name": "stdout",
     "output_type": "stream",
     "text": [
      "31495\n"
     ]
    }
   ],
   "source": [
    "total = 0\n",
    "for k in image_count:\n",
    "    total += image_count[k][0]\n",
    "\n",
    "print(total)"
   ]
  },
  {
   "cell_type": "code",
   "execution_count": 25,
   "metadata": {},
   "outputs": [
    {
     "name": "stdout",
     "output_type": "stream",
     "text": [
      "31495\n"
     ]
    }
   ],
   "source": [
    "count = 0\n",
    "with open('dataset2.txt', newline='') as infile:\n",
    "    spamreader = csv.reader(infile)\n",
    "    for row in spamreader:\n",
    "        count += 1\n",
    "        \n",
    "    print(count)"
   ]
  },
  {
   "cell_type": "code",
   "execution_count": 26,
   "metadata": {},
   "outputs": [
    {
     "data": {
      "text/plain": [
       "28345.5"
      ]
     },
     "execution_count": 26,
     "metadata": {},
     "output_type": "execute_result"
    }
   ],
   "source": [
    "weights = {}\n",
    "num_valid = {\n",
    "    'blouse': 13,\n",
    "    'outwear': 14,\n",
    "    'trousers': 7,\n",
    "    'skirt': 4,\n",
    "    'dress': 15\n",
    "}\n",
    "with open('/home/tqjxlm/dataset/fasionAI/dataset/train/Annotations/train.csv', newline='') as infile:\n",
    "    spamreader = csv.reader(infile)\n",
    "    head = True\n",
    "    \n",
    "    for row in spamreader:\n",
    "        if head:\n",
    "            head = False\n",
    "            continue\n",
    "            \n",
    "        weight = np.zeros(24)\n",
    "\n",
    "        for i in range(2, 26):\n",
    "            x, y, v = row[i].split('_')\n",
    "            if v != '-1':\n",
    "                weight[i-2] = 1\n",
    "        \n",
    "        if row[1] in ['blouse', 'outwear', 'dress']:\n",
    "            if row[7].split('_')[2] == \"-1\" or row[8].split('_')[2] == \"-1\":\n",
    "                continue\n",
    "        else:\n",
    "            if row[17].split('_')[2] == \"-1\" or row[18].split('_')[2] == \"-1\":\n",
    "                continue\n",
    "        \n",
    "        if np.count_nonzero(weight) is num_valid[row[1]]:\n",
    "            weights[row[1]] = weight\n",
    "        \n",
    "        if len(weights) is 5:\n",
    "            break"
   ]
  }
 ],
 "metadata": {
  "kernelspec": {
   "display_name": "Python 3",
   "language": "python",
   "name": "python3"
  },
  "language_info": {
   "codemirror_mode": {
    "name": "ipython",
    "version": 3
   },
   "file_extension": ".py",
   "mimetype": "text/x-python",
   "name": "python",
   "nbconvert_exporter": "python",
   "pygments_lexer": "ipython3",
   "version": "3.5.5"
  }
 },
 "nbformat": 4,
 "nbformat_minor": 1
}
