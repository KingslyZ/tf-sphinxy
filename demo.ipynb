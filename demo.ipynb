{
 "cells": [
  {
   "cell_type": "code",
   "execution_count": null,
   "metadata": {},
   "outputs": [],
   "source": [
    "import math\n",
    "import os\n",
    "\n",
    "import cv2\n",
    "import numpy as np\n",
    "import tensorflow as tf\n",
    "from matplotlib import pyplot as plt\n",
    "\n",
    "from config import Config\n",
    "from datagen import DataGenerator, _relative_points, _pad_img\n",
    "from sphinx import SphinxModel\n",
    "%matplotlib inline\n",
    "\n",
    "%load_ext autoreload\n",
    "%autoreload 2"
   ]
  },
  {
   "cell_type": "code",
   "execution_count": null,
   "metadata": {},
   "outputs": [],
   "source": [
    "cfg = Config()\n",
    "\n",
    "os.environ['CUDA_DEVICE_ORDER'] = 'PCI_BUS_ID'\n",
    "os.environ['CUDA_VISIBLE_DEVICES'] = '1'\n",
    "cfg.load = \"sphinx_9\"\n",
    "\n",
    "dataset = DataGenerator(cfg)\n",
    "dataset.generate_set(train = True)"
   ]
  },
  {
   "cell_type": "code",
   "execution_count": null,
   "metadata": {},
   "outputs": [],
   "source": [
    "model = SphinxModel(cfg, dataset)\n",
    "model.generate_model(True)"
   ]
  },
  {
   "cell_type": "code",
   "execution_count": null,
   "metadata": {},
   "outputs": [],
   "source": [
    "with tf.name_scope('Session'):\n",
    "    model.Session = tf.Session()\n",
    "    model._init_variable()"
   ]
  },
  {
   "cell_type": "code",
   "execution_count": null,
   "metadata": {},
   "outputs": [],
   "source": [
    "def _relative_points(points, shape):\n",
    "    new_p = np.copy(points)\n",
    "    w, h, _ = shape\n",
    "    for i in range(len(new_p)):\n",
    "        if (new_p[i] == [-1, -1]).any():\n",
    "            continue\n",
    "        if h > w:\n",
    "            offset = math.floor((h - w) / 2)\n",
    "            new_p[i, 0] += offset\n",
    "        else:\n",
    "            offset = math.floor((w - h) / 2)\n",
    "            new_p[i, 1] += offset\n",
    "    return new_p"
   ]
  },
  {
   "cell_type": "code",
   "execution_count": null,
   "metadata": {},
   "outputs": [],
   "source": [
    "i = 0"
   ]
  },
  {
   "cell_type": "code",
   "execution_count": null,
   "metadata": {},
   "outputs": [],
   "source": [
    "# get image info\n",
    "name = dataset.valid_set[i]\n",
    "point = dataset.data_dict[name]['points']\n",
    "label = dataset.data_dict[name]['label']\n",
    "weight = np.asarray(dataset.data_dict[name]['weight'])\n",
    "\n",
    "# opencv width height is inversed\n",
    "swapped_p = np.zeros(point.shape)\n",
    "swapped_p[:, 0] = point[:, 1]\n",
    "swapped_p[:, 1] = point[:, 0]\n",
    "\n",
    "# open image\n",
    "img = dataset.open_img(dataset.train_img_dir, name)\n",
    "orig_size = max(img.shape)\n",
    "\n",
    "# pad image and points\n",
    "img = _pad_img(img)\n",
    "new_p = _relative_points(swapped_p, img.shape)\n",
    "\n",
    "# visualize ground truth\n",
    "gt_hm_visual = dataset._generate_hm(orig_size, cfg.hm_size, new_p, weight, keep_invisible=False)\n",
    "gt_hm_visual = np.sum(gt_hm_visual, 2) * 255\n",
    "gt_hm_visual = cv2.resize(gt_hm_visual, (orig_size, orig_size), interpolation=cv2.INTER_LINEAR)\n",
    "gt_hm_visual = np.expand_dims(gt_hm_visual, 2)\n",
    "gt_visual = cv2.cvtColor(img, cv2.COLOR_BGR2RGB) + gt_hm_visual.astype(np.int32)\n",
    "pred_visual = cv2.cvtColor(img, cv2.COLOR_BGR2RGB)\n",
    "\n",
    "# resize image for inference\n",
    "img = cv2.resize(img, (cfg.img_size, cfg.img_size), interpolation=cv2.INTER_LINEAR)\n",
    "img = img.astype(np.float32) / 255\n",
    "images = np.expand_dims(img, 0)\n",
    "\n",
    "# get prediction\n",
    "prediction = model.Session.run(model.output, feed_dict={model.img: images})\n",
    "pred = prediction[0, model.nStacks - 1, :, :, :]\n",
    "\n",
    "# calculate predictions from heatmap\n",
    "pred_idxes = np.zeros((model.num_points, 2), dtype=np.float32)\n",
    "total_dist = 0.0\n",
    "for j in range(model.num_points):\n",
    "    if weight[j] == 1:\n",
    "        index = np.unravel_index(pred[:, :, j].argmax(), (model.hm_size, model.hm_size))\n",
    "        pred_idx = np.array(index) / model.hm_size * orig_size\n",
    "        \n",
    "        pred_idxes[j, :] = pred_idx\n",
    "        total_dist += np.linalg.norm(pred_idx - new_p[j])\n",
    "\n",
    "# opencv width height is inversed\n",
    "swapped_p = np.zeros(pred_idxes.shape)\n",
    "swapped_p[:, 0] = pred_idxes[:, 1]\n",
    "swapped_p[:, 1] = pred_idxes[:, 0]\n",
    "\n",
    "# visualize prediction\n",
    "pred_hm_visual = dataset._generate_hm(orig_size, cfg.hm_size, swapped_p, weight, keep_invisible=False)\n",
    "pred_hm_visual = np.sum(pred_hm_visual, 2) * 255\n",
    "pred_hm_visual = cv2.resize(pred_hm_visual, (orig_size, orig_size), interpolation=cv2.INTER_LINEAR)\n",
    "pred_hm_visual = np.expand_dims(pred_hm_visual, 2)\n",
    "pred_visual = pred_visual + pred_hm_visual.astype(np.int32)        \n",
    "  \n",
    "# calc normalized average error\n",
    "if label <= 2:\n",
    "    norm_idx1 = new_p[5]\n",
    "    norm_idx2 = new_p[6]\n",
    "else:\n",
    "    norm_idx1 = new_p[15]\n",
    "    norm_idx2 = new_p[16]\n",
    "\n",
    "norm_dist = np.linalg.norm(norm_idx2 - norm_idx1)\n",
    "error = total_dist / norm_dist / np.sum(np.count_nonzero(weight))\n",
    "\n",
    "# show results\n",
    "plt.imshow(gt_visual)\n",
    "plt.show()\n",
    "plt.imshow(pred_visual)\n",
    "plt.show()\n",
    "print(\"image error:\", error)\n",
    "        \n",
    "i += 1"
   ]
  }
 ],
 "metadata": {
  "kernelspec": {
   "display_name": "Python 3",
   "language": "python",
   "name": "python3"
  },
  "language_info": {
   "codemirror_mode": {
    "name": "ipython",
    "version": 3
   },
   "file_extension": ".py",
   "mimetype": "text/x-python",
   "name": "python",
   "nbconvert_exporter": "python",
   "pygments_lexer": "ipython3",
   "version": "3.5.5"
  }
 },
 "nbformat": 4,
 "nbformat_minor": 2
}
