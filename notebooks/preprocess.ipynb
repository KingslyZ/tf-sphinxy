{
 "cells": [
  {
   "cell_type": "markdown",
   "metadata": {},
   "source": [
    "# 预处理效果测试\n",
    "主要是检验boundingbox的生成情况"
   ]
  },
  {
   "cell_type": "code",
   "execution_count": null,
   "metadata": {},
   "outputs": [],
   "source": [
    "import os\n",
    "os.chdir('..')\n",
    "\n",
    "import cv2\n",
    "import csv\n",
    "import numpy as np\n",
    "\n",
    "from PIL import Image\n",
    "\n",
    "from preprocess.datagen import DataGenerator\n",
    "from config import Config\n",
    "\n",
    "import matplotlib.pyplot as plt\n",
    "%matplotlib inline\n",
    "\n",
    "%load_ext autoreload\n",
    "%autoreload 2"
   ]
  },
  {
   "cell_type": "code",
   "execution_count": null,
   "metadata": {},
   "outputs": [],
   "source": [
    "def check_image(name):\n",
    "#     name = train_table[i]\n",
    "    data = data_dict[name]\n",
    "    bound = data['bound']\n",
    "    points = data['points']\n",
    "    print(name)\n",
    "\n",
    "    width = bound[2] - bound[0] + 1\n",
    "    height = bound[3] - bound[1] + 1\n",
    "    print(width, height)\n",
    "\n",
    "    image = cv2.imread(os.path.join('data/train/blouse/Images', name))\n",
    "    raw = cv2.cvtColor(image, cv2.COLOR_BGR2RGB)\n",
    "    for i in range(points.shape[0]):\n",
    "        cv2.circle(raw, (points[i][0], points[i][1]), 7, (0, 255, 0), -1)\n",
    "    plt.figure(1)\n",
    "    plt.imshow(raw)\n",
    "\n",
    "    points = points - np.array(bound[0:2])\n",
    "    print(points)\n",
    "\n",
    "    image = cv2.cvtColor(image, cv2.COLOR_BGR2RGB)\n",
    "    image = image[bound[1]:(bound[3]+1), bound[0]:(bound[2]+1)]\n",
    "    for i in range(points.shape[0]):\n",
    "        cv2.circle(image, (points[i][0], points[i][1]), 3, (255, 0, 0), -1)\n",
    "    plt.figure(2)\n",
    "    plt.imshow(image)"
   ]
  },
  {
   "cell_type": "markdown",
   "metadata": {},
   "source": [
    "## 检查关键点是否丢失\n",
    "遍历一个类的bbox，统计关键点在bbox内的比例"
   ]
  },
  {
   "cell_type": "code",
   "execution_count": null,
   "metadata": {},
   "outputs": [],
   "source": [
    "i = 0\n",
    "out_of_range = 0\n",
    "resize_rate = 0\n",
    "\n",
    "error = False\n",
    "while i < len(train_table) - 1:\n",
    "    name = train_table[i]\n",
    "    data = data_dict[name]\n",
    "    bound = data['bound']\n",
    "    points = data['points']\n",
    "    weight = data['weight']\n",
    "    \n",
    "    im = Image.open(os.path.join('data/train/blouse/Images', name))\n",
    "    orig_width, orig_height = im.size\n",
    "    \n",
    "    bound[0] = max(0, bound[0])\n",
    "    bound[1] = max(0, bound[1])\n",
    "    bound[2] = min(orig_width, bound[2])\n",
    "    bound[3] = min(orig_height, bound[3])\n",
    "    width = bound[2] - bound[0] + 1\n",
    "    height = bound[3] - bound[1] + 1\n",
    "\n",
    "    new_points = points - np.array(bound[0:2])\n",
    "    data['new_points'] = new_points\n",
    "\n",
    "    for j in range(new_points.shape[0]):\n",
    "        if weight[j] != -1:\n",
    "            if (new_points[j][0] > width) or (\n",
    "                new_points[j][0] < 0) or (\n",
    "                new_points[j][1] > height) or (\n",
    "                new_points[j][1] < 0):\n",
    "                \n",
    "                out_of_range += 1\n",
    "                check_image(name)\n",
    "                error = True\n",
    "                break\n",
    "    \n",
    "#     if error:\n",
    "#         break\n",
    "        \n",
    "    i += 1\n",
    "    \n",
    "print('Invalid rate:', out_of_range / i, '%')"
   ]
  },
  {
   "cell_type": "markdown",
   "metadata": {},
   "source": [
    "## 可视化bbox和关键点\n",
    "按bbox切割图像，并对比关键点位置"
   ]
  },
  {
   "cell_type": "code",
   "execution_count": null,
   "metadata": {},
   "outputs": [],
   "source": [
    "cfg = Config()\n",
    "dataset = DataGenerator(cfg)\n",
    "dataset.generate_set(train = True)"
   ]
  },
  {
   "cell_type": "code",
   "execution_count": null,
   "metadata": {},
   "outputs": [],
   "source": [
    "train_generator = dataset.generator(cfg.img_size, cfg.hm_size, 1, cfg.nStacks, 'train')"
   ]
  },
  {
   "cell_type": "code",
   "execution_count": null,
   "metadata": {},
   "outputs": [],
   "source": [
    "img, hm0, hm1, hm2, weight = next(train_generator)\n",
    "image = img[0]\n",
    "hm = hm2[0]\n",
    "weight = weight[0] \n",
    "\n",
    "raw_image = cv2.cvtColor(image, cv2.COLOR_BGR2RGB)\n",
    "raw_image = cv2.resize(raw_image, (256, 256), interpolation=cv2.INTER_LINEAR)\n",
    "\n",
    "# visualize ground truth\n",
    "gt_hm_visual = np.sum(hm, 2) * 255\n",
    "gt_hm_visual = np.expand_dims(gt_hm_visual, 2)\n",
    "gt_visual = raw_image + gt_hm_visual.astype(np.int32)\n",
    "plt.imshow(gt_visual)\n",
    "plt.show()"
   ]
  },
  {
   "cell_type": "code",
   "execution_count": null,
   "metadata": {},
   "outputs": [],
   "source": [
    "weight = [0, 0, 1]\n",
    "text = [1, 2, 3]\n",
    "[text[i] for i in range(len(text)) if weight[i] == 1]"
   ]
  },
  {
   "cell_type": "markdown",
   "metadata": {},
   "source": [
    "## Fallback\n",
    "relax bbox of outwear category to the whole image size"
   ]
  },
  {
   "cell_type": "code",
   "execution_count": null,
   "metadata": {},
   "outputs": [],
   "source": [
    "with open('data/train/outwear/points.txt') as infile:\n",
    "    with open('data/train/outwear/points_row_bound.txt', 'w') as outfile:\n",
    "        spam_reader = csv.reader(infile, delimiter=' ')\n",
    "        spam_writer = csv.writer(outfile, delimiter=' ')\n",
    "        for row in spam_reader:\n",
    "            name = row[0]\n",
    "            points = row[5:]\n",
    "            im = Image.open(os.path.join('data/train/outwear/Images', name))\n",
    "            orig_width, orig_height = im.size\n",
    "            bound = [0, 0, orig_width, orig_height]\n",
    "            spam_writer.writerow([name] + bound + points)"
   ]
  }
 ],
 "metadata": {
  "kernelspec": {
   "display_name": "Python 3",
   "language": "python",
   "name": "python3"
  },
  "language_info": {
   "codemirror_mode": {
    "name": "ipython",
    "version": 3
   },
   "file_extension": ".py",
   "mimetype": "text/x-python",
   "name": "python",
   "nbconvert_exporter": "python",
   "pygments_lexer": "ipython3",
   "version": "3.5.5"
  }
 },
 "nbformat": 4,
 "nbformat_minor": 2
}
