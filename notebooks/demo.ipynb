{
 "cells": [
  {
   "cell_type": "markdown",
   "metadata": {},
   "source": [
    "# sphinx visualization demo\n",
    "\n",
    "本demo用于直观调试数据预处理流程和模型inference流程\n",
    "\n",
    "进行模型训练和生成测试结果请见launcher.py\n",
    "\n",
    "#### 使用说明\n",
    "\n",
    "1. 先执行以下2个cell和初始化部分的3个cell\n",
    "2. 后续三个测试部分可以选择运行，不必按顺序执行\n",
    "3. 每个测试部分可以多次执行"
   ]
  },
  {
   "cell_type": "code",
   "execution_count": null,
   "metadata": {},
   "outputs": [],
   "source": [
    "import os\n",
    "os.chdir('..')\n",
    "\n",
    "import cv2\n",
    "import numpy as np\n",
    "import tensorflow as tf\n",
    "\n",
    "import utils as ut\n",
    "from config import Config\n",
    "from preprocess.datagen import DataGenerator, _relative_points, _pad_img\n",
    "from models.sphinx import SphinxModel\n",
    "from scripts.test import Tester\n",
    "from scripts.train import Trainer\n",
    "\n",
    "from matplotlib import pyplot as plt\n",
    "%matplotlib inline\n",
    "\n",
    "%load_ext autoreload\n",
    "%autoreload 2"
   ]
  },
  {
   "cell_type": "code",
   "execution_count": null,
   "metadata": {},
   "outputs": [],
   "source": [
    "def predict_one(model, images, general_category, new_p, weight, orig_size, image_visual):\n",
    "    \"\"\"\n",
    "    params\n",
    "         model: inference model\n",
    "         images: padded and resized image, shape [1, img_size, img_size]\n",
    "         general_category: 'top' or 'bottom'\n",
    "         new_p: padded ground truth, shape [num_points, 2]\n",
    "         weight: point weight, shape [num_points]\n",
    "         orig_size: raw image size\n",
    "         image_visual: padded raw image, shape [1, orig_size, orig_size]\n",
    "    \"\"\"\n",
    "    # get prediction\n",
    "    pred = model.Session.run(model.output[2], feed_dict={model.img: images})\n",
    "    pred = pred[0]\n",
    "\n",
    "    # calculate predictions from heatmap\n",
    "    pred_idxes = np.zeros((model.num_points, 2), dtype=np.float32)\n",
    "    total_dist = 0.0\n",
    "    for j in range(model.num_points):\n",
    "        if weight[j] == 1:\n",
    "            index = np.unravel_index(pred[:, :, j].argmax(), (model.out_size, model.out_size))\n",
    "            index = (index[1], index[0])\n",
    "            pred_idx = np.array(index) / model.out_size * orig_size\n",
    "            pred_idxes[j, :] = pred_idx\n",
    "            total_dist += np.linalg.norm(pred_idx - new_p[j])\n",
    "\n",
    "    # visualize prediction\n",
    "    pred_hm_visual = dataset._generate_hm(orig_size, model.out_size, pred_idxes, weight, keep_invisible=False, sigma=12)\n",
    "    pred_hm_visual = np.sum(pred_hm_visual, 2) * 255\n",
    "    pred_hm_visual = cv2.resize(pred_hm_visual, (orig_size, orig_size), interpolation=cv2.INTER_LINEAR)\n",
    "    pred_hm_visual = np.expand_dims(pred_hm_visual, 2)\n",
    "    image_visual = image_visual + pred_hm_visual.astype(np.int32)  \n",
    "    plt.imshow(image_visual)\n",
    "    plt.show()\n",
    "\n",
    "    # calc normalized average error\n",
    "    if general_category == 'top':\n",
    "        norm_idx1 = new_p[5]\n",
    "        norm_idx2 = new_p[6]\n",
    "    else:\n",
    "        norm_idx1 = new_p[0]\n",
    "        norm_idx2 = new_p[1]\n",
    "\n",
    "    norm_dist = np.linalg.norm(norm_idx2 - norm_idx1)\n",
    "    error = total_dist / norm_dist / np.sum(np.count_nonzero(weight))\n",
    "    print(\"image error:\", error)"
   ]
  },
  {
   "cell_type": "markdown",
   "metadata": {},
   "source": [
    "## 初始化数据集和模型\n",
    "\n",
    "#### 注意修改以下参数：\n",
    "1. CUDA_VISIBLE_DEVICES\n",
    "2. config配置文件\n",
    "\n",
    "#### 关于初始化和硬件占用\n",
    "1. 模型初始化后，关闭该页面不会终止显存占用，再次打开页面也不需要重新初始化\n",
    "2. 如果要释放显存，需要在页面内restart kernel，或在jupyter首页shutdown该页面"
   ]
  },
  {
   "cell_type": "code",
   "execution_count": null,
   "metadata": {},
   "outputs": [],
   "source": [
    "cfg = Config()\n",
    "cfg.total_points = len(cfg.points_list)\n",
    "cfg.load = \"trousers_1\"\n",
    "\n",
    "dataset = DataGenerator(cfg)\n",
    "dataset.generate_set(train = True)\n",
    "# dataset.generate_set(train = False)\n",
    "\n",
    "os.environ['CUDA_DEVICE_ORDER'] = 'PCI_BUS_ID'\n",
    "os.environ['CUDA_VISIBLE_DEVICES'] = '1'"
   ]
  },
  {
   "cell_type": "code",
   "execution_count": null,
   "metadata": {},
   "outputs": [],
   "source": [
    "model = SphinxModel(cfg)\n",
    "model.img = tf.placeholder(tf.float32, (None, cfg.img_size, cfg.img_size, 3))\n",
    "model.out_size = cfg.hm_size * cfg.out_rate\n",
    "model.output = model.graph(model.img, False)"
   ]
  },
  {
   "cell_type": "code",
   "execution_count": null,
   "metadata": {},
   "outputs": [],
   "source": [
    "with tf.name_scope('Session'):\n",
    "    model.Session = tf.Session()\n",
    "    \n",
    "    assert (cfg.load is not None), 'Config \"Load\" must be specified.'\n",
    "    saver = tf.train.Saver(max_to_keep=10)\n",
    "    saver.restore(model.Session, os.path.join(cfg.saver_dir, cfg.load))"
   ]
  },
  {
   "cell_type": "markdown",
   "metadata": {},
   "source": [
    "## 在训练集上进行测试\n",
    "\n",
    "#### 主要是检查data augmentation的效果\n",
    "#### 每次测试1张图片"
   ]
  },
  {
   "cell_type": "code",
   "execution_count": null,
   "metadata": {},
   "outputs": [],
   "source": [
    "train_gen = dataset.generator(cfg.img_size, cfg.hm_size, 1, cfg.nStacks, 'train')"
   ]
  },
  {
   "cell_type": "code",
   "execution_count": null,
   "metadata": {},
   "outputs": [],
   "source": [
    "# generate augmented data\n",
    "img, hm0, hm1, hm2, weight = next(train_gen)\n",
    "image = img[0]\n",
    "hm = hm2[0]\n",
    "weight = weight[0] \n",
    "\n",
    "raw_image = cv2.cvtColor(image, cv2.COLOR_BGR2RGB)\n",
    "raw_image = cv2.resize(raw_image, (model.out_size, model.out_size), interpolation=cv2.INTER_LINEAR)\n",
    "\n",
    "# visualize ground truth\n",
    "gt_hm_visual = np.sum(hm, 2) * 255\n",
    "gt_hm_visual = np.expand_dims(gt_hm_visual, 2)\n",
    "gt_visual = raw_image + gt_hm_visual.astype(np.int32)\n",
    "plt.imshow(gt_visual)\n",
    "plt.show()\n",
    "\n",
    "# calculate ground truth from gt_maps\n",
    "new_p = np.zeros((model.num_points, 2))\n",
    "for i in range(model.num_points):\n",
    "    if weight[i] == 1:\n",
    "        this_map = hm[:, :, i]\n",
    "        pred_idx = np.reshape(np.array(np.array(np.where(this_map == np.max(this_map)))), [2])\n",
    "        pred_idx[0], pred_idx[1] = pred_idx[1], pred_idx[0]\n",
    "        new_p[i] = pred_idx\n",
    "\n",
    "# visualize prediction\n",
    "predict_one(model, img, 'bottom', new_p, weight, model.out_size, raw_image)"
   ]
  },
  {
   "cell_type": "markdown",
   "metadata": {},
   "source": [
    "## 在验证集上进行测试\n",
    "\n",
    "#### 每次测试1张图片。修改i控制图片位置\n",
    "#### 为方便调试，这里不使用generator"
   ]
  },
  {
   "cell_type": "code",
   "execution_count": null,
   "metadata": {},
   "outputs": [],
   "source": [
    "i = 0"
   ]
  },
  {
   "cell_type": "code",
   "execution_count": null,
   "metadata": {
    "scrolled": false
   },
   "outputs": [],
   "source": [
    "# generate augmented data\n",
    "img, hm0, hm1, hm2, weight = next(train_gen)\n",
    "image = img[0]\n",
    "hm = hm2[0]\n",
    "weight = weight[0] \n",
    "\n",
    "raw_image = cv2.cvtColor(image, cv2.COLOR_BGR2RGB)\n",
    "raw_image = cv2.resize(raw_image, (model.out_size, model.out_size), interpolation=cv2.INTER_LINEAR)\n",
    "\n",
    "# visualize ground truth\n",
    "gt_hm_visual = np.sum(hm, 2) * 255\n",
    "gt_hm_visual = np.expand_dims(gt_hm_visual, 2)\n",
    "gt_visual = raw_image + gt_hm_visual.astype(np.int32)\n",
    "plt.imshow(gt_visual)\n",
    "plt.show()\n",
    "\n",
    "# calculate ground truth from gt_maps\n",
    "new_p = np.zeros((model.num_points, 2))\n",
    "for i in range(model.num_points):\n",
    "    if weight[i] == 1:\n",
    "        this_map = hm[:, :, i]\n",
    "        pred_idx = np.reshape(np.array(np.array(np.where(this_map == np.max(this_map)))), [2])\n",
    "        pred_idx[0], pred_idx[1] = pred_idx[1], pred_idx[0]\n",
    "        new_p[i] = pred_idx\n",
    "\n",
    "# visualize prediction\n",
    "predict_one(model, img, 'bottom', new_p, weight, model.out_size, raw_image)"
   ]
  },
  {
   "cell_type": "markdown",
   "metadata": {},
   "source": [
    "## 在测试集上进行测试\n",
    "\n",
    "#### 重新初始化了dataset. 使用test_generator进行测试\n",
    "#### 每次测试1张图片"
   ]
  },
  {
   "cell_type": "code",
   "execution_count": null,
   "metadata": {},
   "outputs": [],
   "source": [
    "test_gen = dataset.test_generator(cfg.img_size, 1)"
   ]
  },
  {
   "cell_type": "code",
   "execution_count": null,
   "metadata": {},
   "outputs": [],
   "source": [
    "# Traversal the test set\n",
    "images, categories, offsets, names, sizes = next(test_gen)\n",
    "prediction = model.Session.run(model.output[3], feed_dict={model.img: images})\n",
    "hms = prediction\n",
    "\n",
    "# init\n",
    "pred_idxes = np.zeros((cfg.total_points, 2), dtype=np.float32)\n",
    "img = images[0]\n",
    "hm = hms[0]\n",
    "offset = offsets[0]\n",
    "category = categories[0]\n",
    "name = names[0]\n",
    "size = sizes[0]\n",
    "\n",
    "# predict\n",
    "write_line = [name, category]\n",
    "cnt = 0\n",
    "for j in range(cfg.total_points):\n",
    "    if ut.VALID_POINTS[cfg.is_top][j]:\n",
    "        if ut.VALID_POSITION[category][j] == 1:\n",
    "            index = np.unravel_index(hm[:, :, cnt].argmax(), (model.out_size, model.out_size))\n",
    "            index = (index[1], index[0])\n",
    "            point = np.array(index) / model.out_size * size\n",
    "            pred_idxes[j] = point\n",
    "            point -= offset\n",
    "            write_line.append(str(int(round(point[0]))) + '_' + str(int(round(point[1]))) + '_1')\n",
    "        else:\n",
    "            write_line.append('-1_-1_-1')\n",
    "        cnt += 1\n",
    "    else:\n",
    "        write_line.append('-1_-1_-1')\n",
    "print(write_line)\n",
    "\n",
    "print(pred_idxes)\n",
    "\n",
    "# visualize prediction\n",
    "pred_hm_visual = np.zeros((size, size, 3))\n",
    "pred_hm = dataset._generate_hm(size, size, pred_idxes, ut.VALID_POSITION[category], keep_invisible=False, sigma=12)\n",
    "pred_hm = np.sum(pred_hm, 2) * 255\n",
    "pred_hm_visual[:, :, 1] = pred_hm\n",
    "pred_visual = cv2.resize(cv2.cvtColor(img, cv2.COLOR_BGR2RGB), (size, size), interpolation=cv2.INTER_LINEAR)\n",
    "pred_visual = pred_visual + pred_hm_visual.astype(np.int32)\n",
    "# show results\n",
    "plt.imshow(pred_visual)\n",
    "plt.show()"
   ]
  }
 ],
 "metadata": {
  "kernelspec": {
   "display_name": "Python 3",
   "language": "python",
   "name": "python3"
  },
  "language_info": {
   "codemirror_mode": {
    "name": "ipython",
    "version": 3
   },
   "file_extension": ".py",
   "mimetype": "text/x-python",
   "name": "python",
   "nbconvert_exporter": "python",
   "pygments_lexer": "ipython3",
   "version": "3.5.5"
  }
 },
 "nbformat": 4,
 "nbformat_minor": 2
}
