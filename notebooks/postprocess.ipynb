{
 "cells": [
  {
   "cell_type": "markdown",
   "metadata": {},
   "source": [
    "# 后处理脚本\n",
    "用于合并每个类的预测输出，并可视化预测效果"
   ]
  },
  {
   "cell_type": "code",
   "execution_count": null,
   "metadata": {},
   "outputs": [],
   "source": [
    "import csv\n",
    "import cv2\n",
    "import os\n",
    "import random\n",
    "\n",
    "import matplotlib.pyplot as plt\n",
    "%matplotlib inline"
   ]
  },
  {
   "cell_type": "code",
   "execution_count": null,
   "metadata": {},
   "outputs": [],
   "source": [
    "# result csv for each category\n",
    "result_path = '../results'\n",
    "data_path = '../data/test_a'\n",
    "categories = ['blouse', 'outwear', 'dress', 'skirt', 'trousers']\n",
    "\n",
    "result_files = []\n",
    "for category in categories:\n",
    "    result_files.append('result_' + category + '.csv')"
   ]
  },
  {
   "cell_type": "code",
   "execution_count": null,
   "metadata": {},
   "outputs": [],
   "source": [
    "# merge results and formalize\n",
    "total_count = 0\n",
    "result_list = []\n",
    "with open(result_path + '/' + 'result.csv', 'w') as outfile:\n",
    "    spamwriter = csv.writer(outfile)\n",
    "    for filename in result_files:\n",
    "        category_count = 0\n",
    "        with open(result_path + '/' + filename) as infile:\n",
    "            spamreader = csv.reader(infile)\n",
    "            for row in spamreader:\n",
    "                row[0] = 'Images/' + row[1] + '/' + row[0]\n",
    "                spamwriter.writerow(row)\n",
    "                result_list.append(row)\n",
    "                category_count += 1\n",
    "            print(filename, ':', category_count)\n",
    "            total_count += category_count\n",
    "    print('total:', total_count)"
   ]
  },
  {
   "cell_type": "code",
   "execution_count": null,
   "metadata": {},
   "outputs": [],
   "source": [
    "# visualize one result picked randomly\n",
    "index = random.randrange(len(result_list))\n",
    "print('index:', index)\n",
    "\n",
    "row = result_list[index]\n",
    "file_name = row[0].split('/')[-1]\n",
    "category = row[1]\n",
    "points = row[2:]\n",
    "local_path = os.path.join(data_path, category, 'Images', file_name)\n",
    "print(local_path)\n",
    "\n",
    "image = cv2.imread(local_path)\n",
    "image = cv2.cvtColor(image, cv2.COLOR_BGR2RGB)\n",
    "for point in points:\n",
    "    x, y, v = map(int, point.split('_'))\n",
    "    if not v == -1:\n",
    "        cv2.circle(image, (x, y), 10, (0, 255, 0), -1)\n",
    "plt.imshow(image)"
   ]
  }
 ],
 "metadata": {
  "kernelspec": {
   "display_name": "Python 3",
   "language": "python",
   "name": "python3"
  },
  "language_info": {
   "codemirror_mode": {
    "name": "ipython",
    "version": 3
   },
   "file_extension": ".py",
   "mimetype": "text/x-python",
   "name": "python",
   "nbconvert_exporter": "python",
   "pygments_lexer": "ipython3",
   "version": "3.5.5"
  }
 },
 "nbformat": 4,
 "nbformat_minor": 2
}
